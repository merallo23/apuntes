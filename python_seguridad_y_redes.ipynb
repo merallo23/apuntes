{
 "cells": [
  {
   "attachments": {},
   "cell_type": "markdown",
   "metadata": {},
   "source": [
    "## Paquetes de programación del sistema ##\n",
    "### Interactuar con el sistema operativo en Python ###\n",
    "\n",
    "El módulo OS es uno de los mejores mecanismos para acceder a los diferentes funciones en nuestro sistema operativo. El uso que haga de este módulo dependerá del sistema operativo que esté utilizando; por ejemplo, necesita usar diferentes comandos dependiendo de si está ejecutandoen el sistema operativo Windows o Linux porque los sistemas de archivos son diferentes."
   ]
  },
  {
   "cell_type": "code",
   "execution_count": 3,
   "metadata": {},
   "outputs": [],
   "source": [
    "import sys\n",
    "import os\n",
    "if len(sys.argv) == 2:\n",
    "    filename = sys.argv[1]\n",
    "    if not os.path.isfile(filename):\n",
    "        print('[-]' +filename +  ' no existe')\n",
    "        exit(0)\n",
    "    if not os.access(filename, os.R_OK):\n",
    "         print('[-]' + filename +  ' acceso denegado')\n",
    "         exit(0)   "
   ]
  },
  {
   "attachments": {},
   "cell_type": "markdown",
   "metadata": {},
   "source": [
    "En el código anterior, comprobamos si el nombre de un archivo de texto pasado como argumento de la línea de comandos existe como archivo y si el usuario actual tiene permisos de lectura para ese archivo.\n",
    "\n",
    "La ejecución del script anterior requiere pasar un parámetro de nombre de archivo para verificar si existe o no. Para hacer esto, usamos la instrucción que verifica si estamos pasando dos argumentos. El siguiente es un ejemplo de una ejecución con un archivo que no existe"
   ]
  },
  {
   "attachments": {},
   "cell_type": "markdown",
   "metadata": {},
   "source": [
    "Además de esto, también podemos usar el módulo os  para enumerar los contenidos del directorio de trabajo actual con el método os.getcwd()"
   ]
  },
  {
   "cell_type": "code",
   "execution_count": 4,
   "metadata": {},
   "outputs": [
    {
     "name": "stdout",
     "output_type": "stream",
     "text": [
      "[+] file.py\n",
      "[+] python_seguridad_y_redes.ipynb\n"
     ]
    }
   ],
   "source": [
    "import os\n",
    "pwd = os.getcwd()\n",
    "list_directory = os.listdir(pwd)\n",
    "for directory in list_directory:\n",
    "    print('[+]', directory)"
   ]
  },
  {
   "attachments": {},
   "cell_type": "markdown",
   "metadata": {},
   "source": [
    "Estos son los pasos principales para el código anterior:\n",
    "\n",
    "* Llame al método os.getcwd() para recuperar la ruta del directorio de trabajo actual y almacene ese valor en la variable pwd.\n",
    "* Llame al  métdo os.listdir() para obtener los nombres de archivos y directorios en el directorio de trabajo actual.\n",
    "* Iterar sobre el directorio de la lista para obtener los archivos y directorios.  \n",
    "  Los siguientes son los principales métodos para recuperar información del módulo os:\n",
    "\n",
    "* os.system()nos permite ejecutar un comando de shell.\n",
    "* os.listdir(path)devuelve una lista con el contenido del directorio pasado como argumento.\n",
    "* os.walk(path)navega por todos los directorios en el directorio de ruta proporcionado y devuelve tres valores: el directorio de ruta, los nombres de los subdirectorios y una lista de nombres de archivo en la ruta del directorio actual."
   ]
  },
  {
   "cell_type": "code",
   "execution_count": 5,
   "metadata": {},
   "outputs": [
    {
     "name": "stdout",
     "output_type": "stream",
     "text": [
      "[+]  .\\file.py\n",
      "[+]  .\\python_seguridad_y_redes.ipynb\n"
     ]
    }
   ],
   "source": [
    "import os\n",
    "for root, directories, files in os.walk(\".\", topdown=False):\n",
    "    for file_entry in files:\n",
    "        print('[+] ', os.path.join(root, file_entry))\n",
    "        for name in directories:\n",
    "            print('[++] ', name)"
   ]
  },
  {
   "attachments": {},
   "cell_type": "markdown",
   "metadata": {},
   "source": [
    "En el siguiente ejemplo, estamos usando el os.walk()método para contar la cantidad de archivos en el directorio actual."
   ]
  },
  {
   "cell_type": "code",
   "execution_count": 6,
   "metadata": {},
   "outputs": [
    {
     "name": "stdout",
     "output_type": "stream",
     "text": [
      "El número de archivos encontrados es:  2\n"
     ]
    }
   ],
   "source": [
    "import os\n",
    "file_count=0\n",
    "for currentdir,dirnames,fienames in os.walk('.'):\n",
    "    file_count += len(fienames)\n",
    "print(\"El número de archivos encontrados es: \",file_count)"
   ]
  },
  {
   "attachments": {},
   "cell_type": "markdown",
   "metadata": {},
   "source": [
    "En el siguiente ejemplo, estamos contando cuántos archivos hay de cada tipo. Para esta tarea, podemos usar el método os.path.splitext(filename), que devuelve el nombre del archivo y la extensión en sí. Puede contar los artículos usando la clase Counter del  módulo collections"
   ]
  },
  {
   "cell_type": "code",
   "execution_count": 7,
   "metadata": {},
   "outputs": [
    {
     "name": "stdout",
     "output_type": "stream",
     "text": [
      ".py:8 1\n",
      ".ipynb:8 1\n"
     ]
    }
   ],
   "source": [
    "import os\n",
    "from collections import Counter\n",
    "counts = Counter()\n",
    "for currentdir, dirnames, filesnames in os.walk('.'):\n",
    "    for filename in filesnames:\n",
    "        first_part, extension =os.path.splitext(filename)\n",
    "        counts[extension] +=1\n",
    "for extension, count in counts.items():\n",
    "    print(f\"{extension}:8 {count}\")"
   ]
  },
  {
   "attachments": {},
   "cell_type": "markdown",
   "metadata": {},
   "source": [
    "Además, podríamos usar la osinterfaz para obtener acceso a la información del sistema y obtener las variables de entorno en su sistema operativo."
   ]
  },
  {
   "cell_type": "code",
   "execution_count": 8,
   "metadata": {},
   "outputs": [
    {
     "name": "stdout",
     "output_type": "stream",
     "text": [
      "d:\\apuntes\\OPOSICIONES_2023\\Junio_2023\\cuadernos_jupyter\n",
      
    }
   ],
   "source": [
    "import os\n",
    "print(os.getcwd())\n",
    "print(os.getppid())\n",
    "print(os.getenv('PATH'))\n",
    "print(os.environ)\n",
    "for environ in os.environ:\n",
    "    print(environ)\n",
    "for key, value in os.environ.items():\n",
    "    print(key, value)"
   ]
  },
  {
   "attachments": {},
   "cell_type": "markdown",
   "metadata": {},
   "source": [
    "## Trabajando con el sistema de archivos en Python ##"
   ]
  },
  {
   "cell_type": "code",
   "execution_count": 9,
   "metadata": {},
   "outputs": [
    {
     "ename": "NameError",
     "evalue": "name 'file' is not defined",
     "output_type": "error",
     "traceback": [
      "\u001b[1;31m---------------------------------------------------------------------------\u001b[0m",
      "\u001b[1;31mNameError\u001b[0m                                 Traceback (most recent call last)",
      "Cell \u001b[1;32mIn[9], line 2\u001b[0m\n\u001b[0;32m      1\u001b[0m \u001b[39mimport\u001b[39;00m \u001b[39mos\u001b[39;00m\n\u001b[1;32m----> 2\u001b[0m file \u001b[39min\u001b[39;00m os\u001b[39m.\u001b[39mwalk(\u001b[39m\"\u001b[39m\u001b[39m./directory\u001b[39m\u001b[39m\"\u001b[39m)\n\u001b[0;32m      3\u001b[0m \u001b[39mprint\u001b[39m (file)\n",
      "\u001b[1;31mNameError\u001b[0m: name 'file' is not defined"
     ]
    }
   ],
   "source": [
    "import os\n",
    "file in os.walk(\"./directory\")\n",
    "print (file)"
   ]
  },
  {
   "cell_type": "code",
   "execution_count": null,
   "metadata": {},
   "outputs": [
    {
     "data": {
      "text/plain": [
       "False"
      ]
     },
     "execution_count": 1,
     "metadata": {},
     "output_type": "execute_result"
    }
   ],
   "source": [
    "import os\n",
    "os.path.isfile(\"/directory\")"
   ]
  },
  {
   "cell_type": "code",
   "execution_count": 10,
   "metadata": {},
   "outputs": [
    {
     "data": {
      "text/plain": [
       "True"
      ]
     },
     "execution_count": 10,
     "metadata": {},
     "output_type": "execute_result"
    }
   ],
   "source": [
    "os.path.isfile(\"file.py\")"
   ]
  },
  {
   "cell_type": "code",
   "execution_count": 11,
   "metadata": {},
   "outputs": [
    {
     "data": {
      "text/plain": [
       "True"
      ]
     },
     "execution_count": 11,
     "metadata": {},
     "output_type": "execute_result"
    }
   ],
   "source": [
    "import os\n",
    "os.path.exists(\"file.py\")"
   ]
  },
  {
   "attachments": {},
   "cell_type": "markdown",
   "metadata": {},
   "source": [
    "Si necesita crear una nueva carpeta de directorio, puede usar el os.makedirs ('my_directory')método. En el siguiente ejemplo, estamos probando la existencia de un directorio y creando un nuevo directorio si este directorio no se encuentra en el sistema de archivos:"
   ]
  },
  {
   "cell_type": "code",
   "execution_count": 12,
   "metadata": {},
   "outputs": [],
   "source": [
    "import os\n",
    "if not os.path.exists('mi_carpeta'):\n",
    "    try:\n",
    "        os.makedirs('mi_carpeta')\n",
    "    except OSError as error:\n",
    "        print(error)"
   ]
  },
  {
   "cell_type": "code",
   "execution_count": 15,
   "metadata": {},
   "outputs": [
    {
     "name": "stdout",
     "output_type": "stream",
     "text": [
      "file stats:  file.py\n",
      "- creado: Fri Jun 30 08:27:17 2023\n",
      "- último acceso: Fri Jun 30 08:27:18 2023\n",
      "- última modificación: Fri Jun 30 08:27:18 2023\n",
      "- tamaño: 0 bytes\n",
      "- dueño: 0 0\n",
      "- modo 0o100666\n"
     ]
    }
   ],
   "source": [
    "import os\n",
    "import time\n",
    "file = \"file.py\"\n",
    "st = os.stat(file)\n",
    "print(\"file stats: \", file)\n",
    "mode, ino, dev, nlink, uid, gid, size, atime, mtime, ctime = st\n",
    "print(\"- creado:\", time.ctime(ctime))\n",
    "print(\"- último acceso:\", time.ctime(atime))\n",
    "print(\"- última modificación:\", time.ctime(mtime))\n",
    "print(\"- tamaño:\", size, \"bytes\")\n",
    "print(\"- dueño:\", uid, gid)\n",
    "print(\"- modo\", oct(mode))"
   ]
  },
  {
   "attachments": {},
   "cell_type": "markdown",
   "metadata": {},
   "source": [
    "Para comprobar la extensión de los archivos:"
   ]
  },
  {
   "cell_type": "code",
   "execution_count": 16,
   "metadata": {},
   "outputs": [
    {
     "name": "stdout",
     "output_type": "stream",
     "text": [
      "Archivos con extensión  .jpeg\n",
      "Archivos con extensión  .jpg\n",
      "Archivos con extensión  .txt\n",
      "Archivos con extensión  .py\n",
      ".\\file.py\n"
     ]
    }
   ],
   "source": [
    "import os\n",
    "extensions = ['.jpeg','.jpg','.txt','.py']\n",
    "for extension in extensions:\n",
    "    print(\"Archivos con extensión \",extension)\n",
    "    for path,folder,files in os.walk(\".\"):\n",
    "        for file in files:\n",
    "            if file.endswith(extension):\n",
    "                print(os.path.join(path,file))"
   ]
  },
  {
   "attachments": {},
   "cell_type": "markdown",
   "metadata": {},
   "source": [
    "### Leer un archivo ZIP usando Python ###"
   ]
  },
  {
   "cell_type": "code",
   "execution_count": null,
   "metadata": {},
   "outputs": [],
   "source": [
    "import zipfile\n",
    "def list_files_in_zip(filename):\n",
    "    with zipfile.ZipFile(filename) as myzip:\n",
    "        for zipinfo in myzip.infolist():\n",
    "            yield zipinfo.filename\n",
    "for filename in list_files_in_zip('file.zip'):\n",
    "    print(filename)"
   ]
  },
  {
   "attachments": {},
   "cell_type": "markdown",
   "metadata": {},
   "source": [
    "## Ejecutar comandos con el módulo de subproceso ##"
   ]
  },
  {
   "attachments": {},
   "cell_type": "markdown",
   "metadata": {},
   "source": [
    "El módulo de subprocesos nos permite invocar y comunicarnos con procesos de Python, enviar datos a la entrada, y recibir la información de salida. El uso de este módulo es la forma preferida de ejecutar y comunicarse con los comandos del sistema operativo o iniciar programas.\n",
    "\n",
    "Este módulo nos permite ejecutar y gestionar procesos directamente desde Python. Eso implica trabajar con la entrada estándar stdin, la salida estándar y los códigos de retorno.\n",
    "\n",
    "La forma más sencilla de ejecutar un comando o invocar un proceso con el módulo de subproceso es a través del método run() que ejecuta un proceso con diferentes argumentos y devuelve una instancia del proceso completado. Esta instancia tendrá atributos de argumentos, código de retorno, salida estándar (stdout) y error estándar (stderr):"
   ]
  },
  {
   "cell_type": "code",
   "execution_count": null,
   "metadata": {},
   "outputs": [],
   "source": [
    "\n",
    "run(*popenargs, input=None, capture_output=False, timeout=None, check=False, **kwargs)"
   ]
  },
  {
   "cell_type": "code",
   "execution_count": 18,
   "metadata": {},
   "outputs": [
    {
     "ename": "FileNotFoundError",
     "evalue": "[WinError 2] El sistema no puede encontrar el archivo especificado",
     "output_type": "error",
     "traceback": [
      "\u001b[1;31m---------------------------------------------------------------------------\u001b[0m",
      "\u001b[1;31mFileNotFoundError\u001b[0m                         Traceback (most recent call last)",
      "Cell \u001b[1;32mIn[18], line 2\u001b[0m\n\u001b[0;32m      1\u001b[0m \u001b[39mimport\u001b[39;00m \u001b[39msubprocess\u001b[39;00m\n\u001b[1;32m----> 2\u001b[0m process \u001b[39m=\u001b[39m subprocess\u001b[39m.\u001b[39;49mrun((\u001b[39m'\u001b[39;49m\u001b[39mls\u001b[39;49m\u001b[39m'\u001b[39;49m, \u001b[39m'\u001b[39;49m\u001b[39m-la\u001b[39;49m\u001b[39m'\u001b[39;49m),stdout \u001b[39m=\u001b[39;49m subprocess\u001b[39m.\u001b[39;49mPIPE)\n\u001b[0;32m      3\u001b[0m \u001b[39mprint\u001b[39m(process\u001b[39m.\u001b[39mstdout\u001b[39m.\u001b[39mdecode(\u001b[39m'\u001b[39m\u001b[39mutf-8\u001b[39m\u001b[39m'\u001b[39m))\n",
      "File \u001b[1;32mc:\\Users\\David\\AppData\\Local\\Programs\\Python\\Python311\\Lib\\subprocess.py:548\u001b[0m, in \u001b[0;36mrun\u001b[1;34m(input, capture_output, timeout, check, *popenargs, **kwargs)\u001b[0m\n\u001b[0;32m    545\u001b[0m     kwargs[\u001b[39m'\u001b[39m\u001b[39mstdout\u001b[39m\u001b[39m'\u001b[39m] \u001b[39m=\u001b[39m PIPE\n\u001b[0;32m    546\u001b[0m     kwargs[\u001b[39m'\u001b[39m\u001b[39mstderr\u001b[39m\u001b[39m'\u001b[39m] \u001b[39m=\u001b[39m PIPE\n\u001b[1;32m--> 548\u001b[0m \u001b[39mwith\u001b[39;00m Popen(\u001b[39m*\u001b[39;49mpopenargs, \u001b[39m*\u001b[39;49m\u001b[39m*\u001b[39;49mkwargs) \u001b[39mas\u001b[39;00m process:\n\u001b[0;32m    549\u001b[0m     \u001b[39mtry\u001b[39;00m:\n\u001b[0;32m    550\u001b[0m         stdout, stderr \u001b[39m=\u001b[39m process\u001b[39m.\u001b[39mcommunicate(\u001b[39minput\u001b[39m, timeout\u001b[39m=\u001b[39mtimeout)\n",
      "File \u001b[1;32mc:\\Users\\David\\AppData\\Local\\Programs\\Python\\Python311\\Lib\\subprocess.py:1026\u001b[0m, in \u001b[0;36mPopen.__init__\u001b[1;34m(self, args, bufsize, executable, stdin, stdout, stderr, preexec_fn, close_fds, shell, cwd, env, universal_newlines, startupinfo, creationflags, restore_signals, start_new_session, pass_fds, user, group, extra_groups, encoding, errors, text, umask, pipesize, process_group)\u001b[0m\n\u001b[0;32m   1022\u001b[0m         \u001b[39mif\u001b[39;00m \u001b[39mself\u001b[39m\u001b[39m.\u001b[39mtext_mode:\n\u001b[0;32m   1023\u001b[0m             \u001b[39mself\u001b[39m\u001b[39m.\u001b[39mstderr \u001b[39m=\u001b[39m io\u001b[39m.\u001b[39mTextIOWrapper(\u001b[39mself\u001b[39m\u001b[39m.\u001b[39mstderr,\n\u001b[0;32m   1024\u001b[0m                     encoding\u001b[39m=\u001b[39mencoding, errors\u001b[39m=\u001b[39merrors)\n\u001b[1;32m-> 1026\u001b[0m     \u001b[39mself\u001b[39;49m\u001b[39m.\u001b[39;49m_execute_child(args, executable, preexec_fn, close_fds,\n\u001b[0;32m   1027\u001b[0m                         pass_fds, cwd, env,\n\u001b[0;32m   1028\u001b[0m                         startupinfo, creationflags, shell,\n\u001b[0;32m   1029\u001b[0m                         p2cread, p2cwrite,\n\u001b[0;32m   1030\u001b[0m                         c2pread, c2pwrite,\n\u001b[0;32m   1031\u001b[0m                         errread, errwrite,\n\u001b[0;32m   1032\u001b[0m                         restore_signals,\n\u001b[0;32m   1033\u001b[0m                         gid, gids, uid, umask,\n\u001b[0;32m   1034\u001b[0m                         start_new_session, process_group)\n\u001b[0;32m   1035\u001b[0m \u001b[39mexcept\u001b[39;00m:\n\u001b[0;32m   1036\u001b[0m     \u001b[39m# Cleanup if the child failed starting.\u001b[39;00m\n\u001b[0;32m   1037\u001b[0m     \u001b[39mfor\u001b[39;00m f \u001b[39min\u001b[39;00m \u001b[39mfilter\u001b[39m(\u001b[39mNone\u001b[39;00m, (\u001b[39mself\u001b[39m\u001b[39m.\u001b[39mstdin, \u001b[39mself\u001b[39m\u001b[39m.\u001b[39mstdout, \u001b[39mself\u001b[39m\u001b[39m.\u001b[39mstderr)):\n",
      "File \u001b[1;32mc:\\Users\\David\\AppData\\Local\\Programs\\Python\\Python311\\Lib\\subprocess.py:1538\u001b[0m, in \u001b[0;36mPopen._execute_child\u001b[1;34m(self, args, executable, preexec_fn, close_fds, pass_fds, cwd, env, startupinfo, creationflags, shell, p2cread, p2cwrite, c2pread, c2pwrite, errread, errwrite, unused_restore_signals, unused_gid, unused_gids, unused_uid, unused_umask, unused_start_new_session, unused_process_group)\u001b[0m\n\u001b[0;32m   1536\u001b[0m \u001b[39m# Start the process\u001b[39;00m\n\u001b[0;32m   1537\u001b[0m \u001b[39mtry\u001b[39;00m:\n\u001b[1;32m-> 1538\u001b[0m     hp, ht, pid, tid \u001b[39m=\u001b[39m _winapi\u001b[39m.\u001b[39;49mCreateProcess(executable, args,\n\u001b[0;32m   1539\u001b[0m                              \u001b[39m# no special security\u001b[39;49;00m\n\u001b[0;32m   1540\u001b[0m                              \u001b[39mNone\u001b[39;49;00m, \u001b[39mNone\u001b[39;49;00m,\n\u001b[0;32m   1541\u001b[0m                              \u001b[39mint\u001b[39;49m(\u001b[39mnot\u001b[39;49;00m close_fds),\n\u001b[0;32m   1542\u001b[0m                              creationflags,\n\u001b[0;32m   1543\u001b[0m                              env,\n\u001b[0;32m   1544\u001b[0m                              cwd,\n\u001b[0;32m   1545\u001b[0m                              startupinfo)\n\u001b[0;32m   1546\u001b[0m \u001b[39mfinally\u001b[39;00m:\n\u001b[0;32m   1547\u001b[0m     \u001b[39m# Child is launched. Close the parent's copy of those pipe\u001b[39;00m\n\u001b[0;32m   1548\u001b[0m     \u001b[39m# handles that only the child should have open.  You need\u001b[39;00m\n\u001b[1;32m   (...)\u001b[0m\n\u001b[0;32m   1551\u001b[0m     \u001b[39m# pipe will not close when the child process exits and the\u001b[39;00m\n\u001b[0;32m   1552\u001b[0m     \u001b[39m# ReadFile will hang.\u001b[39;00m\n\u001b[0;32m   1553\u001b[0m     \u001b[39mself\u001b[39m\u001b[39m.\u001b[39m_close_pipe_fds(p2cread, p2cwrite,\n\u001b[0;32m   1554\u001b[0m                          c2pread, c2pwrite,\n\u001b[0;32m   1555\u001b[0m                          errread, errwrite)\n",
      "\u001b[1;31mFileNotFoundError\u001b[0m: [WinError 2] El sistema no puede encontrar el archivo especificado"
     ]
    }
   ],
   "source": [
    "import subprocess\n",
    "process = subprocess.run(('ls', '-la'),stdout = subprocess.PIPE)\n",
    "print(process.stdout.decode('utf-8'))"
   ]
  },
  {
   "cell_type": "code",
   "execution_count": 20,
   "metadata": {},
   "outputs": [
    {
     "ename": "TimeoutExpired",
     "evalue": "Command '['c:\\\\Users\\\\David\\\\AppData\\\\Local\\\\Programs\\\\Python\\\\Python311\\\\python.exe', '-c', 'import time; time.sleep(10)']' timed out after 5.0 seconds",
     "output_type": "error",
     "traceback": [
      "\u001b[1;31m---------------------------------------------------------------------------\u001b[0m",
      "\u001b[1;31mTimeoutExpired\u001b[0m                            Traceback (most recent call last)",
      "Cell \u001b[1;32mIn[20], line 3\u001b[0m\n\u001b[0;32m      1\u001b[0m \u001b[39mimport\u001b[39;00m \u001b[39msubprocess\u001b[39;00m\n\u001b[0;32m      2\u001b[0m \u001b[39mimport\u001b[39;00m \u001b[39msys\u001b[39;00m\n\u001b[1;32m----> 3\u001b[0m result \u001b[39m=\u001b[39m subprocess\u001b[39m.\u001b[39;49mrun([sys\u001b[39m.\u001b[39;49mexecutable, \u001b[39m\"\u001b[39;49m\u001b[39m-c\u001b[39;49m\u001b[39m\"\u001b[39;49m, \u001b[39m\"\u001b[39;49m\u001b[39mimport time; time.sleep(10)\u001b[39;49m\u001b[39m\"\u001b[39;49m], timeout\u001b[39m=\u001b[39;49m\u001b[39m5\u001b[39;49m)\n",
      "File \u001b[1;32mc:\\Users\\David\\AppData\\Local\\Programs\\Python\\Python311\\Lib\\subprocess.py:550\u001b[0m, in \u001b[0;36mrun\u001b[1;34m(input, capture_output, timeout, check, *popenargs, **kwargs)\u001b[0m\n\u001b[0;32m    548\u001b[0m \u001b[39mwith\u001b[39;00m Popen(\u001b[39m*\u001b[39mpopenargs, \u001b[39m*\u001b[39m\u001b[39m*\u001b[39mkwargs) \u001b[39mas\u001b[39;00m process:\n\u001b[0;32m    549\u001b[0m     \u001b[39mtry\u001b[39;00m:\n\u001b[1;32m--> 550\u001b[0m         stdout, stderr \u001b[39m=\u001b[39m process\u001b[39m.\u001b[39;49mcommunicate(\u001b[39minput\u001b[39;49m, timeout\u001b[39m=\u001b[39;49mtimeout)\n\u001b[0;32m    551\u001b[0m     \u001b[39mexcept\u001b[39;00m TimeoutExpired \u001b[39mas\u001b[39;00m exc:\n\u001b[0;32m    552\u001b[0m         process\u001b[39m.\u001b[39mkill()\n",
      "File \u001b[1;32mc:\\Users\\David\\AppData\\Local\\Programs\\Python\\Python311\\Lib\\subprocess.py:1228\u001b[0m, in \u001b[0;36mPopen.communicate\u001b[1;34m(self, input, timeout)\u001b[0m\n\u001b[0;32m   1225\u001b[0m     \u001b[39mfinally\u001b[39;00m:\n\u001b[0;32m   1226\u001b[0m         \u001b[39mself\u001b[39m\u001b[39m.\u001b[39m_communication_started \u001b[39m=\u001b[39m \u001b[39mTrue\u001b[39;00m\n\u001b[1;32m-> 1228\u001b[0m     sts \u001b[39m=\u001b[39m \u001b[39mself\u001b[39;49m\u001b[39m.\u001b[39;49mwait(timeout\u001b[39m=\u001b[39;49m\u001b[39mself\u001b[39;49m\u001b[39m.\u001b[39;49m_remaining_time(endtime))\n\u001b[0;32m   1230\u001b[0m \u001b[39mreturn\u001b[39;00m (stdout, stderr)\n",
      "File \u001b[1;32mc:\\Users\\David\\AppData\\Local\\Programs\\Python\\Python311\\Lib\\subprocess.py:1264\u001b[0m, in \u001b[0;36mPopen.wait\u001b[1;34m(self, timeout)\u001b[0m\n\u001b[0;32m   1262\u001b[0m     endtime \u001b[39m=\u001b[39m _time() \u001b[39m+\u001b[39m timeout\n\u001b[0;32m   1263\u001b[0m \u001b[39mtry\u001b[39;00m:\n\u001b[1;32m-> 1264\u001b[0m     \u001b[39mreturn\u001b[39;00m \u001b[39mself\u001b[39;49m\u001b[39m.\u001b[39;49m_wait(timeout\u001b[39m=\u001b[39;49mtimeout)\n\u001b[0;32m   1265\u001b[0m \u001b[39mexcept\u001b[39;00m \u001b[39mKeyboardInterrupt\u001b[39;00m:\n\u001b[0;32m   1266\u001b[0m     \u001b[39m# https://bugs.python.org/issue25942\u001b[39;00m\n\u001b[0;32m   1267\u001b[0m     \u001b[39m# The first keyboard interrupt waits briefly for the child to\u001b[39;00m\n\u001b[0;32m   1268\u001b[0m     \u001b[39m# exit under the common assumption that it also received the ^C\u001b[39;00m\n\u001b[0;32m   1269\u001b[0m     \u001b[39m# generated SIGINT and will exit rapidly.\u001b[39;00m\n\u001b[0;32m   1270\u001b[0m     \u001b[39mif\u001b[39;00m timeout \u001b[39mis\u001b[39;00m \u001b[39mnot\u001b[39;00m \u001b[39mNone\u001b[39;00m:\n",
      "File \u001b[1;32mc:\\Users\\David\\AppData\\Local\\Programs\\Python\\Python311\\Lib\\subprocess.py:1591\u001b[0m, in \u001b[0;36mPopen._wait\u001b[1;34m(self, timeout)\u001b[0m\n\u001b[0;32m   1588\u001b[0m     result \u001b[39m=\u001b[39m _winapi\u001b[39m.\u001b[39mWaitForSingleObject(\u001b[39mself\u001b[39m\u001b[39m.\u001b[39m_handle,\n\u001b[0;32m   1589\u001b[0m                                          timeout_millis)\n\u001b[0;32m   1590\u001b[0m     \u001b[39mif\u001b[39;00m result \u001b[39m==\u001b[39m _winapi\u001b[39m.\u001b[39mWAIT_TIMEOUT:\n\u001b[1;32m-> 1591\u001b[0m         \u001b[39mraise\u001b[39;00m TimeoutExpired(\u001b[39mself\u001b[39m\u001b[39m.\u001b[39margs, timeout)\n\u001b[0;32m   1592\u001b[0m     \u001b[39mself\u001b[39m\u001b[39m.\u001b[39mreturncode \u001b[39m=\u001b[39m _winapi\u001b[39m.\u001b[39mGetExitCodeProcess(\u001b[39mself\u001b[39m\u001b[39m.\u001b[39m_handle)\n\u001b[0;32m   1593\u001b[0m \u001b[39mreturn\u001b[39;00m \u001b[39mself\u001b[39m\u001b[39m.\u001b[39mreturncode\n",
      "\u001b[1;31mTimeoutExpired\u001b[0m: Command '['c:\\\\Users\\\\David\\\\AppData\\\\Local\\\\Programs\\\\Python\\\\Python311\\\\python.exe', '-c', 'import time; time.sleep(10)']' timed out after 5.0 seconds"
     ]
    }
   ],
   "source": [
    "import subprocess\n",
    "import sys\n",
    "result = subprocess.run([sys.executable, \"-c\", \"import time; time.sleep(10)\"], timeout=5)"
   ]
  },
  {
   "attachments": {},
   "cell_type": "markdown",
   "metadata": {},
   "source": [
    "Si ejecutamos el código anterior, obtendremos una subprocess.TimeoutExpired excepción. En el código anterior, el proceso que intentamos ejecutar usa la time.sleep()función para esperar 10 segundos. Sin embargo, pasamos el argumento timeout=5para matar nuestro hilo después de 5 segundos. Esto explica por qué nuestra invocación del subprocess.run()método está generando una subprocess.TimeoutExpiredexcepción."
   ]
  },
  {
   "cell_type": "code",
   "execution_count": null,
   "metadata": {},
   "outputs": [],
   "source": [
    "import subprocess\n",
    "import sys\n",
    "result = subprocess.run(\n",
    "    [sys.executable, \"-c\", \"import sys; print(sys.stdin.read())\"], input=b\"python\"\n",
    ")"
   ]
  },
  {
   "cell_type": "code",
   "execution_count": 21,
   "metadata": {},
   "outputs": [
    {
     "name": "stdout",
     "output_type": "stream",
     "text": [
      "Current path d:\\apuntes\\OPOSICIONES_2023\\Junio_2023\\cuadernos_jupyter\n",
      "PATH Environment variable: c:\\Users\\David\\AppData\\Local\\Programs\\Python\\Python311;c:\\Users\\David\\AppData\\Roaming\\Python\\Python311\\Scripts;C:\\Program Files\\Microsoft\\jdk-11.0.16.101-hotspot\\bin;C:\\Users\\David\\Downloads\\OracleClient\\bin;C:\\app\\David\\product\\21c\\dbhomeXE\\bin;C:\\Program Files (x86)\\VMware\\VMware Workstation\\bin\\;C:\\Program Files\\Common Files\\Oracle\\Java\\javapath;C:\\Program Files\\Microsoft MPI\\Bin\\;C:\\Program Files (x86)\\Common Files\\Intel\\Shared Libraries\\redist\\intel64\\compiler;C:\\Windows\\system32;C:\\Windows;C:\\Windows\\System32\\Wbem;C:\\Windows\\System32\\WindowsPowerShell\\v1.0\\;C:\\Windows\\System32\\OpenSSH\\;C:\\Program Files\\dotnet\\;C:\\Program Files\\Microsoft SQL Server\\150\\Tools\\Binn\\;C:\\Program Files\\Microsoft SQL Server\\Client SDK\\ODBC\\170\\Tools\\Binn\\;C:\\WINDOWS\\system32;C:\\WINDOWS;C:\\WINDOWS\\System32\\Wbem;C:\\WINDOWS\\System32\\WindowsPowerShell\\v1.0\\;C:\\WINDOWS\\System32\\OpenSSH\\;C:\\Program Files (x86)\\NVIDIA Corporation\\PhysX\\Common;C:\\Program Files\\NVIDIA Corporation\\NVIDIA NvDLISR;C:\\Program Files (x86)\\Microsoft SQL Server\\160\\Tools\\Binn\\;C:\\Program Files\\Microsoft SQL Server\\160\\Tools\\Binn\\;C:\\Program Files\\Microsoft SQL Server\\160\\DTS\\Binn\\;C:\\Program Files (x86)\\Microsoft SQL Server\\160\\DTS\\Binn\\;C:\\Program Files\\Azure Data Studio\\bin;C:\\Program Files (x86)\\Windows Kits\\10\\Windows Performance Toolkit\\;C:\\Program Files (x86)\\Windows Kits\\10\\Microsoft Application Virtualization\\Sequencer\\;C:\\HashiCorp\\Vagrant\\bin;C:\\Program Files\\PowerShell\\7\\;C:\\Program Files\\PowerShell\\7-preview\\preview;C:\\MinGW\\bin;C:\\Program Files\\Git\\cmd;C:\\ProgramData\\chocolatey\\bin;;C:\\Program Files\\Docker\\Docker\\resources\\bin;C:\\Program Files\\nodejs\\;C:\\msys64\\mingw64\\bin;C:\\Users\\David\\AppData\\Local\\Microsoft\\WindowsApps;C:\\Users\\David\\AppData\\Local\\JetBrains\\Toolbox\\scripts;C:\\Users\\David\\AppData\\Local\\Programs\\Microsoft VS Code\\bin;C:\\Users\\David\\AppData\\Local\\Microsoft\\WindowsApps;C:\\Program Files\\Azure Data Studio\\bin;C:\\Users\\David\\AppData\\Local\\GitHubDesktop\\bin;C:\\Users\\David\\AppData\\Roaming\\npm;C:\\Users\\David\\.dotnet\\tools;C:\\Program Files\\Microsoft\\jdk-11.0.16.101-hotspot\\bin;C:\\Users\\David\\Downloads\\OracleClient\\bin;C:\\app\\David\\product\\21c\\dbhomeXE\\bin;C:\\Program Files (x86)\\VMware\\VMware Workstation\\bin\\;C:\\Program Files\\Common Files\\Oracle\\Java\\javapath;C:\\Program Files\\Microsoft MPI\\Bin\\;C:\\Program Files (x86)\\Common Files\\Intel\\Shared Libraries\\redist\\intel64\\compiler;C:\\Windows\\system32;C:\\Windows;C:\\Windows\\System32\\Wbem;C:\\Windows\\System32\\WindowsPowerShell\\v1.0\\;C:\\Windows\\System32\\OpenSSH\\;C:\\Program Files\\dotnet\\;C:\\Program Files\\Microsoft SQL Server\\150\\Tools\\Binn\\;C:\\Program Files\\Microsoft SQL Server\\Client SDK\\ODBC\\170\\Tools\\Binn\\;C:\\WINDOWS\\system32;C:\\WINDOWS;C:\\WINDOWS\\System32\\Wbem;C:\\WINDOWS\\System32\\WindowsPowerShell\\v1.0\\;C:\\WINDOWS\\System32\\OpenSSH\\;C:\\Program Files (x86)\\NVIDIA Corporation\\PhysX\\Common;C:\\Program Files\\NVIDIA Corporation\\NVIDIA NvDLISR;C:\\Program Files (x86)\\Microsoft SQL Server\\160\\Tools\\Binn\\;C:\\Program Files\\Microsoft SQL Server\\160\\Tools\\Binn\\;C:\\Program Files\\Microsoft SQL Server\\160\\DTS\\Binn\\;C:\\Program Files (x86)\\Microsoft SQL Server\\160\\DTS\\Binn\\;C:\\Program Files\\Azure Data Studio\\bin;C:\\Program Files (x86)\\Windows Kits\\10\\Windows Performance Toolkit\\;C:\\Program Files (x86)\\Windows Kits\\10\\Microsoft Application Virtualization\\Sequencer\\;C:\\HashiCorp\\Vagrant\\bin;C:\\Program Files\\PowerShell\\7\\;C:\\Program Files\\PowerShell\\7-preview\\preview;C:\\MinGW\\bin;C:\\Program Files\\Git\\cmd;C:\\ProgramData\\chocolatey\\bin;;C:\\Program Files\\Docker\\Docker\\resources\\bin;C:\\Program Files\\nodejs\\;C:\\msys64\\mingw64\\bin;C:\\Users\\David\\AppData\\Local\\Microsoft\\WindowsApps;C:\\Users\\David\\AppData\\Local\\JetBrains\\Toolbox\\scripts;C:\\Users\\David\\AppData\\Local\\Programs\\Microsoft VS Code\\bin;C:\\Users\\David\\AppData\\Local\\Microsoft\\WindowsApps;C:\\Program Files\\Azure Data Studio\\bin;C:\\Users\\David\\AppData\\Local\\GitHubDesktop\\bin;C:\\Users\\David\\AppData\\Roaming\\npm;C:\\Users\\David\\.dotnet\\tools\n",
      "List files using the subprocess module:\n"
     ]
    },
    {
     "ename": "FileNotFoundError",
     "evalue": "[WinError 2] El sistema no puede encontrar el archivo especificado",
     "output_type": "error",
     "traceback": [
      "\u001b[1;31m---------------------------------------------------------------------------\u001b[0m",
      "\u001b[1;31mFileNotFoundError\u001b[0m                         Traceback (most recent call last)",
      "Cell \u001b[1;32mIn[21], line 6\u001b[0m\n\u001b[0;32m      4\u001b[0m \u001b[39mprint\u001b[39m(\u001b[39m\"\u001b[39m\u001b[39mPATH Environment variable:\u001b[39m\u001b[39m\"\u001b[39m,os\u001b[39m.\u001b[39mgetenv(\u001b[39m\"\u001b[39m\u001b[39mPATH\u001b[39m\u001b[39m\"\u001b[39m)) \n\u001b[0;32m      5\u001b[0m \u001b[39mprint\u001b[39m(\u001b[39m\"\u001b[39m\u001b[39mList files using the subprocess module:\u001b[39m\u001b[39m\"\u001b[39m)\n\u001b[1;32m----> 6\u001b[0m call([\u001b[39m\"\u001b[39;49m\u001b[39mls\u001b[39;49m\u001b[39m\"\u001b[39;49m, \u001b[39m\"\u001b[39;49m\u001b[39m-la\u001b[39;49m\u001b[39m\"\u001b[39;49m])\n",
      "File \u001b[1;32mc:\\Users\\David\\AppData\\Local\\Programs\\Python\\Python311\\Lib\\subprocess.py:389\u001b[0m, in \u001b[0;36mcall\u001b[1;34m(timeout, *popenargs, **kwargs)\u001b[0m\n\u001b[0;32m    381\u001b[0m \u001b[39mdef\u001b[39;00m \u001b[39mcall\u001b[39m(\u001b[39m*\u001b[39mpopenargs, timeout\u001b[39m=\u001b[39m\u001b[39mNone\u001b[39;00m, \u001b[39m*\u001b[39m\u001b[39m*\u001b[39mkwargs):\n\u001b[0;32m    382\u001b[0m \u001b[39m    \u001b[39m\u001b[39m\"\"\"Run command with arguments.  Wait for command to complete or\u001b[39;00m\n\u001b[0;32m    383\u001b[0m \u001b[39m    timeout, then return the returncode attribute.\u001b[39;00m\n\u001b[0;32m    384\u001b[0m \n\u001b[1;32m   (...)\u001b[0m\n\u001b[0;32m    387\u001b[0m \u001b[39m    retcode = call([\"ls\", \"-l\"])\u001b[39;00m\n\u001b[0;32m    388\u001b[0m \u001b[39m    \"\"\"\u001b[39;00m\n\u001b[1;32m--> 389\u001b[0m     \u001b[39mwith\u001b[39;00m Popen(\u001b[39m*\u001b[39;49mpopenargs, \u001b[39m*\u001b[39;49m\u001b[39m*\u001b[39;49mkwargs) \u001b[39mas\u001b[39;00m p:\n\u001b[0;32m    390\u001b[0m         \u001b[39mtry\u001b[39;00m:\n\u001b[0;32m    391\u001b[0m             \u001b[39mreturn\u001b[39;00m p\u001b[39m.\u001b[39mwait(timeout\u001b[39m=\u001b[39mtimeout)\n",
      "File \u001b[1;32mc:\\Users\\David\\AppData\\Local\\Programs\\Python\\Python311\\Lib\\subprocess.py:1026\u001b[0m, in \u001b[0;36mPopen.__init__\u001b[1;34m(self, args, bufsize, executable, stdin, stdout, stderr, preexec_fn, close_fds, shell, cwd, env, universal_newlines, startupinfo, creationflags, restore_signals, start_new_session, pass_fds, user, group, extra_groups, encoding, errors, text, umask, pipesize, process_group)\u001b[0m\n\u001b[0;32m   1022\u001b[0m         \u001b[39mif\u001b[39;00m \u001b[39mself\u001b[39m\u001b[39m.\u001b[39mtext_mode:\n\u001b[0;32m   1023\u001b[0m             \u001b[39mself\u001b[39m\u001b[39m.\u001b[39mstderr \u001b[39m=\u001b[39m io\u001b[39m.\u001b[39mTextIOWrapper(\u001b[39mself\u001b[39m\u001b[39m.\u001b[39mstderr,\n\u001b[0;32m   1024\u001b[0m                     encoding\u001b[39m=\u001b[39mencoding, errors\u001b[39m=\u001b[39merrors)\n\u001b[1;32m-> 1026\u001b[0m     \u001b[39mself\u001b[39;49m\u001b[39m.\u001b[39;49m_execute_child(args, executable, preexec_fn, close_fds,\n\u001b[0;32m   1027\u001b[0m                         pass_fds, cwd, env,\n\u001b[0;32m   1028\u001b[0m                         startupinfo, creationflags, shell,\n\u001b[0;32m   1029\u001b[0m                         p2cread, p2cwrite,\n\u001b[0;32m   1030\u001b[0m                         c2pread, c2pwrite,\n\u001b[0;32m   1031\u001b[0m                         errread, errwrite,\n\u001b[0;32m   1032\u001b[0m                         restore_signals,\n\u001b[0;32m   1033\u001b[0m                         gid, gids, uid, umask,\n\u001b[0;32m   1034\u001b[0m                         start_new_session, process_group)\n\u001b[0;32m   1035\u001b[0m \u001b[39mexcept\u001b[39;00m:\n\u001b[0;32m   1036\u001b[0m     \u001b[39m# Cleanup if the child failed starting.\u001b[39;00m\n\u001b[0;32m   1037\u001b[0m     \u001b[39mfor\u001b[39;00m f \u001b[39min\u001b[39;00m \u001b[39mfilter\u001b[39m(\u001b[39mNone\u001b[39;00m, (\u001b[39mself\u001b[39m\u001b[39m.\u001b[39mstdin, \u001b[39mself\u001b[39m\u001b[39m.\u001b[39mstdout, \u001b[39mself\u001b[39m\u001b[39m.\u001b[39mstderr)):\n",
      "File \u001b[1;32mc:\\Users\\David\\AppData\\Local\\Programs\\Python\\Python311\\Lib\\subprocess.py:1538\u001b[0m, in \u001b[0;36mPopen._execute_child\u001b[1;34m(self, args, executable, preexec_fn, close_fds, pass_fds, cwd, env, startupinfo, creationflags, shell, p2cread, p2cwrite, c2pread, c2pwrite, errread, errwrite, unused_restore_signals, unused_gid, unused_gids, unused_uid, unused_umask, unused_start_new_session, unused_process_group)\u001b[0m\n\u001b[0;32m   1536\u001b[0m \u001b[39m# Start the process\u001b[39;00m\n\u001b[0;32m   1537\u001b[0m \u001b[39mtry\u001b[39;00m:\n\u001b[1;32m-> 1538\u001b[0m     hp, ht, pid, tid \u001b[39m=\u001b[39m _winapi\u001b[39m.\u001b[39mCreateProcess(executable, args,\n\u001b[0;32m   1539\u001b[0m                              \u001b[39m# no special security\u001b[39;00m\n\u001b[0;32m   1540\u001b[0m                              \u001b[39mNone\u001b[39;00m, \u001b[39mNone\u001b[39;00m,\n\u001b[0;32m   1541\u001b[0m                              \u001b[39mint\u001b[39m(\u001b[39mnot\u001b[39;00m close_fds),\n\u001b[0;32m   1542\u001b[0m                              creationflags,\n\u001b[0;32m   1543\u001b[0m                              env,\n\u001b[0;32m   1544\u001b[0m                              cwd,\n\u001b[0;32m   1545\u001b[0m                              startupinfo)\n\u001b[0;32m   1546\u001b[0m \u001b[39mfinally\u001b[39;00m:\n\u001b[0;32m   1547\u001b[0m     \u001b[39m# Child is launched. Close the parent's copy of those pipe\u001b[39;00m\n\u001b[0;32m   1548\u001b[0m     \u001b[39m# handles that only the child should have open.  You need\u001b[39;00m\n\u001b[1;32m   (...)\u001b[0m\n\u001b[0;32m   1551\u001b[0m     \u001b[39m# pipe will not close when the child process exits and the\u001b[39;00m\n\u001b[0;32m   1552\u001b[0m     \u001b[39m# ReadFile will hang.\u001b[39;00m\n\u001b[0;32m   1553\u001b[0m     \u001b[39mself\u001b[39m\u001b[39m.\u001b[39m_close_pipe_fds(p2cread, p2cwrite,\n\u001b[0;32m   1554\u001b[0m                          c2pread, c2pwrite,\n\u001b[0;32m   1555\u001b[0m                          errread, errwrite)\n",
      "\u001b[1;31mFileNotFoundError\u001b[0m: [WinError 2] El sistema no puede encontrar el archivo especificado"
     ]
    }
   ],
   "source": [
    "import os\n",
    "from subprocess import call\n",
    "print(\"Current path\",os.getcwd())\n",
    "print(\"PATH Environment variable:\",os.getenv(\"PATH\")) \n",
    "print(\"List files using the subprocess module:\")\n",
    "call([\"ls\", \"-la\"])"
   ]
  },
  {
   "cell_type": "code",
   "execution_count": 23,
   "metadata": {},
   "outputs": [
    {
     "name": "stdout",
     "output_type": "stream",
     "text": [
      "Sistema operativo: win32\n"
     ]
    }
   ],
   "source": [
    "import subprocess\n",
    "import sys\n",
    "print(\"Sistema operativo:\",sys.platform)\n",
    "if sys.platform.startswith(\"linux\"):\n",
    "    command_ping ='/bin/ping'\n",
    "elif sys.platform == \"darwin\":\n",
    "    command_ping ='/sbin/ping'\n",
    "elif os.name == \"nt\":\n",
    "    command_ping ='ping'\n",
    "ping_parameter ='-c 1'\n",
    "domain = \"www.google.com\"\n",
    "p = subprocess.Popen([command_ping,ping_parameter,domain], shell=False, stderr=subprocess.PIPE)\n",
    "out = p.stderr.read(1)\n",
    "sys.stdout.write(str(out.decode('utf-8')))\n",
    "sys.stdout.flush()"
   ]
  },
  {
   "cell_type": "code",
   "execution_count": 24,
   "metadata": {},
   "outputs": [
    {
     "name": "stdout",
     "output_type": "stream",
     "text": [
      "Operating system: win32\n",
      "Scanning 192.168.18.1 \n",
      "b'Acceso denegado. La opci\\xa2n -c 1 requiere privilegios administrativos.\\r\\n'\n",
      "Scanning 192.168.18.2 \n",
      "b'Acceso denegado. La opci\\xa2n -c 1 requiere privilegios administrativos.\\r\\n'\n",
      "Scanning 192.168.18.3 \n",
      "b'Acceso denegado. La opci\\xa2n -c 1 requiere privilegios administrativos.\\r\\n'\n"
     ]
    }
   ],
   "source": [
    "from subprocess import Popen, PIPE\n",
    "import sys\n",
    "print(\"Operating system:\",sys.platform)\n",
    "if sys.platform.startswith(\"linux\"):\n",
    "    command_ping ='/bin/ping'\n",
    "elif sys.platform == \"darwin\":\n",
    "    command_ping ='/sbin/ping'\n",
    "elif os.name == \"nt\":\n",
    "    command_ping ='ping'\n",
    "for ip in range(1,4):\n",
    "    ipAddress = '192.168.18.'+str(ip)\n",
    "    print(\"Scanning %s \" %(ipAddress))\n",
    "    subprocess = Popen([command_ping, '-c 1',ipAddress], stdin=PIPE, stdout=PIPE, stderr=PIPE)\n",
    "    stdout, stderr= subprocess.communicate(input=None)\n",
    "    print(stdout)\n",
    "    if b\"bytes from \" in stdout:\n",
    "        print(\"The Ip Address %s has responded with a ECHO_REPLY!\" %(stdout.split()[1]))"
   ]
  },
  {
   "attachments": {},
   "cell_type": "markdown",
   "metadata": {},
   "source": [
    "El siguiente script ejecuta el nmapcomando en la localhostmáquina en la dirección IP 127.0.0.1."
   ]
  },
  {
   "cell_type": "code",
   "execution_count": 25,
   "metadata": {},
   "outputs": [
    {
     "ename": "FileNotFoundError",
     "evalue": "[WinError 2] El sistema no puede encontrar el archivo especificado",
     "output_type": "error",
     "traceback": [
      "\u001b[1;31m---------------------------------------------------------------------------\u001b[0m",
      "\u001b[1;31mFileNotFoundError\u001b[0m                         Traceback (most recent call last)",
      "Cell \u001b[1;32mIn[25], line 2\u001b[0m\n\u001b[0;32m      1\u001b[0m \u001b[39mfrom\u001b[39;00m \u001b[39msubprocess\u001b[39;00m \u001b[39mimport\u001b[39;00m Popen, PIPE\n\u001b[1;32m----> 2\u001b[0m process \u001b[39m=\u001b[39m Popen([\u001b[39m'\u001b[39;49m\u001b[39mnmap\u001b[39;49m\u001b[39m'\u001b[39;49m, \u001b[39m'\u001b[39;49m\u001b[39m127.0.0.1\u001b[39;49m\u001b[39m'\u001b[39;49m], stdout\u001b[39m=\u001b[39;49mPIPE, stderr\u001b[39m=\u001b[39;49mPIPE)\n\u001b[0;32m      3\u001b[0m stdout, stderr \u001b[39m=\u001b[39m process\u001b[39m.\u001b[39mcommunicate()\n\u001b[0;32m      4\u001b[0m \u001b[39mprint\u001b[39m(stdout\u001b[39m.\u001b[39mdecode())\n",
      "File \u001b[1;32mc:\\Users\\David\\AppData\\Local\\Programs\\Python\\Python311\\Lib\\subprocess.py:1026\u001b[0m, in \u001b[0;36mPopen.__init__\u001b[1;34m(self, args, bufsize, executable, stdin, stdout, stderr, preexec_fn, close_fds, shell, cwd, env, universal_newlines, startupinfo, creationflags, restore_signals, start_new_session, pass_fds, user, group, extra_groups, encoding, errors, text, umask, pipesize, process_group)\u001b[0m\n\u001b[0;32m   1022\u001b[0m         \u001b[39mif\u001b[39;00m \u001b[39mself\u001b[39m\u001b[39m.\u001b[39mtext_mode:\n\u001b[0;32m   1023\u001b[0m             \u001b[39mself\u001b[39m\u001b[39m.\u001b[39mstderr \u001b[39m=\u001b[39m io\u001b[39m.\u001b[39mTextIOWrapper(\u001b[39mself\u001b[39m\u001b[39m.\u001b[39mstderr,\n\u001b[0;32m   1024\u001b[0m                     encoding\u001b[39m=\u001b[39mencoding, errors\u001b[39m=\u001b[39merrors)\n\u001b[1;32m-> 1026\u001b[0m     \u001b[39mself\u001b[39;49m\u001b[39m.\u001b[39;49m_execute_child(args, executable, preexec_fn, close_fds,\n\u001b[0;32m   1027\u001b[0m                         pass_fds, cwd, env,\n\u001b[0;32m   1028\u001b[0m                         startupinfo, creationflags, shell,\n\u001b[0;32m   1029\u001b[0m                         p2cread, p2cwrite,\n\u001b[0;32m   1030\u001b[0m                         c2pread, c2pwrite,\n\u001b[0;32m   1031\u001b[0m                         errread, errwrite,\n\u001b[0;32m   1032\u001b[0m                         restore_signals,\n\u001b[0;32m   1033\u001b[0m                         gid, gids, uid, umask,\n\u001b[0;32m   1034\u001b[0m                         start_new_session, process_group)\n\u001b[0;32m   1035\u001b[0m \u001b[39mexcept\u001b[39;00m:\n\u001b[0;32m   1036\u001b[0m     \u001b[39m# Cleanup if the child failed starting.\u001b[39;00m\n\u001b[0;32m   1037\u001b[0m     \u001b[39mfor\u001b[39;00m f \u001b[39min\u001b[39;00m \u001b[39mfilter\u001b[39m(\u001b[39mNone\u001b[39;00m, (\u001b[39mself\u001b[39m\u001b[39m.\u001b[39mstdin, \u001b[39mself\u001b[39m\u001b[39m.\u001b[39mstdout, \u001b[39mself\u001b[39m\u001b[39m.\u001b[39mstderr)):\n",
      "File \u001b[1;32mc:\\Users\\David\\AppData\\Local\\Programs\\Python\\Python311\\Lib\\subprocess.py:1538\u001b[0m, in \u001b[0;36mPopen._execute_child\u001b[1;34m(self, args, executable, preexec_fn, close_fds, pass_fds, cwd, env, startupinfo, creationflags, shell, p2cread, p2cwrite, c2pread, c2pwrite, errread, errwrite, unused_restore_signals, unused_gid, unused_gids, unused_uid, unused_umask, unused_start_new_session, unused_process_group)\u001b[0m\n\u001b[0;32m   1536\u001b[0m \u001b[39m# Start the process\u001b[39;00m\n\u001b[0;32m   1537\u001b[0m \u001b[39mtry\u001b[39;00m:\n\u001b[1;32m-> 1538\u001b[0m     hp, ht, pid, tid \u001b[39m=\u001b[39m _winapi\u001b[39m.\u001b[39mCreateProcess(executable, args,\n\u001b[0;32m   1539\u001b[0m                              \u001b[39m# no special security\u001b[39;00m\n\u001b[0;32m   1540\u001b[0m                              \u001b[39mNone\u001b[39;00m, \u001b[39mNone\u001b[39;00m,\n\u001b[0;32m   1541\u001b[0m                              \u001b[39mint\u001b[39m(\u001b[39mnot\u001b[39;00m close_fds),\n\u001b[0;32m   1542\u001b[0m                              creationflags,\n\u001b[0;32m   1543\u001b[0m                              env,\n\u001b[0;32m   1544\u001b[0m                              cwd,\n\u001b[0;32m   1545\u001b[0m                              startupinfo)\n\u001b[0;32m   1546\u001b[0m \u001b[39mfinally\u001b[39;00m:\n\u001b[0;32m   1547\u001b[0m     \u001b[39m# Child is launched. Close the parent's copy of those pipe\u001b[39;00m\n\u001b[0;32m   1548\u001b[0m     \u001b[39m# handles that only the child should have open.  You need\u001b[39;00m\n\u001b[1;32m   (...)\u001b[0m\n\u001b[0;32m   1551\u001b[0m     \u001b[39m# pipe will not close when the child process exits and the\u001b[39;00m\n\u001b[0;32m   1552\u001b[0m     \u001b[39m# ReadFile will hang.\u001b[39;00m\n\u001b[0;32m   1553\u001b[0m     \u001b[39mself\u001b[39m\u001b[39m.\u001b[39m_close_pipe_fds(p2cread, p2cwrite,\n\u001b[0;32m   1554\u001b[0m                          c2pread, c2pwrite,\n\u001b[0;32m   1555\u001b[0m                          errread, errwrite)\n",
      "\u001b[1;31mFileNotFoundError\u001b[0m: [WinError 2] El sistema no puede encontrar el archivo especificado"
     ]
    }
   ],
   "source": [
    "from subprocess import Popen, PIPE\n",
    "process = Popen(['nmap', '127.0.0.1'], stdout=PIPE, stderr=PIPE)\n",
    "stdout, stderr = process.communicate()\n",
    "print(stdout.decode())"
   ]
  },
  {
   "attachments": {},
   "cell_type": "markdown",
   "metadata": {},
   "source": [
    "El siguiente script comprobará si tenemosun programa específico instalado en nuestro sistema operativo. "
   ]
  },
  {
   "cell_type": "code",
   "execution_count": 26,
   "metadata": {},
   "outputs": [],
   "source": [
    "import subprocess\n",
    "program = input('Enter a process in your operating system:')\n",
    "process = subprocess. run(['which', program], capture_output=True, text=True)\n",
    "if process.returncode == 0:\n",
    "    print(f'The process \"{program}\" is installed')\n",
    "    print(f'The location of the binary is: {process.stdout}')\n",
    "else:\n",
    "    print(f'Sorry the {program} is not installed')\n",
    "    print(process.stderr)"
   ]
  },
  {
   "attachments": {},
   "cell_type": "markdown",
   "metadata": {},
   "source": [
    "### Configuración de un virtualenv con subproceso ###"
   ]
  },
  {
   "cell_type": "code",
   "execution_count": 1,
   "metadata": {},
   "outputs": [
    {
     "ename": "FileNotFoundError",
     "evalue": "[WinError 2] El sistema no puede encontrar el archivo especificado",
     "output_type": "error",
     "traceback": [
      "\u001b[1;31m---------------------------------------------------------------------------\u001b[0m",
      "\u001b[1;31mFileNotFoundError\u001b[0m                         Traceback (most recent call last)",
      "Cell \u001b[1;32mIn[1], line 5\u001b[0m\n\u001b[0;32m      3\u001b[0m VENV_NAME \u001b[39m=\u001b[39m \u001b[39m'\u001b[39m\u001b[39m.venv\u001b[39m\u001b[39m'\u001b[39m\n\u001b[0;32m      4\u001b[0m REQUIREMENTS \u001b[39m=\u001b[39m \u001b[39m'\u001b[39m\u001b[39mrequirements.txt\u001b[39m\u001b[39m'\u001b[39m\n\u001b[1;32m----> 5\u001b[0m process \u001b[39m=\u001b[39m subprocess\u001b[39m.\u001b[39;49mrun([\u001b[39m'\u001b[39;49m\u001b[39mwhich\u001b[39;49m\u001b[39m'\u001b[39;49m, \u001b[39m'\u001b[39;49m\u001b[39mpython3\u001b[39;49m\u001b[39m'\u001b[39;49m], capture_output\u001b[39m=\u001b[39;49m\u001b[39mTrue\u001b[39;49;00m, text\u001b[39m=\u001b[39;49m\u001b[39mTrue\u001b[39;49;00m)\n\u001b[0;32m      6\u001b[0m \u001b[39mif\u001b[39;00m process\u001b[39m.\u001b[39mreturncode \u001b[39m!=\u001b[39m \u001b[39m0\u001b[39m:\n\u001b[0;32m      7\u001b[0m     \u001b[39mraise\u001b[39;00m \u001b[39mOSError\u001b[39;00m(\u001b[39m'\u001b[39m\u001b[39mSorry python3 is not installed\u001b[39m\u001b[39m'\u001b[39m)\n",
      "File \u001b[1;32mc:\\Users\\David\\AppData\\Local\\Programs\\Python\\Python311\\Lib\\subprocess.py:548\u001b[0m, in \u001b[0;36mrun\u001b[1;34m(input, capture_output, timeout, check, *popenargs, **kwargs)\u001b[0m\n\u001b[0;32m    545\u001b[0m     kwargs[\u001b[39m'\u001b[39m\u001b[39mstdout\u001b[39m\u001b[39m'\u001b[39m] \u001b[39m=\u001b[39m PIPE\n\u001b[0;32m    546\u001b[0m     kwargs[\u001b[39m'\u001b[39m\u001b[39mstderr\u001b[39m\u001b[39m'\u001b[39m] \u001b[39m=\u001b[39m PIPE\n\u001b[1;32m--> 548\u001b[0m \u001b[39mwith\u001b[39;00m Popen(\u001b[39m*\u001b[39;49mpopenargs, \u001b[39m*\u001b[39;49m\u001b[39m*\u001b[39;49mkwargs) \u001b[39mas\u001b[39;00m process:\n\u001b[0;32m    549\u001b[0m     \u001b[39mtry\u001b[39;00m:\n\u001b[0;32m    550\u001b[0m         stdout, stderr \u001b[39m=\u001b[39m process\u001b[39m.\u001b[39mcommunicate(\u001b[39minput\u001b[39m, timeout\u001b[39m=\u001b[39mtimeout)\n",
      "File \u001b[1;32mc:\\Users\\David\\AppData\\Local\\Programs\\Python\\Python311\\Lib\\subprocess.py:1026\u001b[0m, in \u001b[0;36mPopen.__init__\u001b[1;34m(self, args, bufsize, executable, stdin, stdout, stderr, preexec_fn, close_fds, shell, cwd, env, universal_newlines, startupinfo, creationflags, restore_signals, start_new_session, pass_fds, user, group, extra_groups, encoding, errors, text, umask, pipesize, process_group)\u001b[0m\n\u001b[0;32m   1022\u001b[0m         \u001b[39mif\u001b[39;00m \u001b[39mself\u001b[39m\u001b[39m.\u001b[39mtext_mode:\n\u001b[0;32m   1023\u001b[0m             \u001b[39mself\u001b[39m\u001b[39m.\u001b[39mstderr \u001b[39m=\u001b[39m io\u001b[39m.\u001b[39mTextIOWrapper(\u001b[39mself\u001b[39m\u001b[39m.\u001b[39mstderr,\n\u001b[0;32m   1024\u001b[0m                     encoding\u001b[39m=\u001b[39mencoding, errors\u001b[39m=\u001b[39merrors)\n\u001b[1;32m-> 1026\u001b[0m     \u001b[39mself\u001b[39;49m\u001b[39m.\u001b[39;49m_execute_child(args, executable, preexec_fn, close_fds,\n\u001b[0;32m   1027\u001b[0m                         pass_fds, cwd, env,\n\u001b[0;32m   1028\u001b[0m                         startupinfo, creationflags, shell,\n\u001b[0;32m   1029\u001b[0m                         p2cread, p2cwrite,\n\u001b[0;32m   1030\u001b[0m                         c2pread, c2pwrite,\n\u001b[0;32m   1031\u001b[0m                         errread, errwrite,\n\u001b[0;32m   1032\u001b[0m                         restore_signals,\n\u001b[0;32m   1033\u001b[0m                         gid, gids, uid, umask,\n\u001b[0;32m   1034\u001b[0m                         start_new_session, process_group)\n\u001b[0;32m   1035\u001b[0m \u001b[39mexcept\u001b[39;00m:\n\u001b[0;32m   1036\u001b[0m     \u001b[39m# Cleanup if the child failed starting.\u001b[39;00m\n\u001b[0;32m   1037\u001b[0m     \u001b[39mfor\u001b[39;00m f \u001b[39min\u001b[39;00m \u001b[39mfilter\u001b[39m(\u001b[39mNone\u001b[39;00m, (\u001b[39mself\u001b[39m\u001b[39m.\u001b[39mstdin, \u001b[39mself\u001b[39m\u001b[39m.\u001b[39mstdout, \u001b[39mself\u001b[39m\u001b[39m.\u001b[39mstderr)):\n",
      "File \u001b[1;32mc:\\Users\\David\\AppData\\Local\\Programs\\Python\\Python311\\Lib\\subprocess.py:1538\u001b[0m, in \u001b[0;36mPopen._execute_child\u001b[1;34m(self, args, executable, preexec_fn, close_fds, pass_fds, cwd, env, startupinfo, creationflags, shell, p2cread, p2cwrite, c2pread, c2pwrite, errread, errwrite, unused_restore_signals, unused_gid, unused_gids, unused_uid, unused_umask, unused_start_new_session, unused_process_group)\u001b[0m\n\u001b[0;32m   1536\u001b[0m \u001b[39m# Start the process\u001b[39;00m\n\u001b[0;32m   1537\u001b[0m \u001b[39mtry\u001b[39;00m:\n\u001b[1;32m-> 1538\u001b[0m     hp, ht, pid, tid \u001b[39m=\u001b[39m _winapi\u001b[39m.\u001b[39;49mCreateProcess(executable, args,\n\u001b[0;32m   1539\u001b[0m                              \u001b[39m# no special security\u001b[39;49;00m\n\u001b[0;32m   1540\u001b[0m                              \u001b[39mNone\u001b[39;49;00m, \u001b[39mNone\u001b[39;49;00m,\n\u001b[0;32m   1541\u001b[0m                              \u001b[39mint\u001b[39;49m(\u001b[39mnot\u001b[39;49;00m close_fds),\n\u001b[0;32m   1542\u001b[0m                              creationflags,\n\u001b[0;32m   1543\u001b[0m                              env,\n\u001b[0;32m   1544\u001b[0m                              cwd,\n\u001b[0;32m   1545\u001b[0m                              startupinfo)\n\u001b[0;32m   1546\u001b[0m \u001b[39mfinally\u001b[39;00m:\n\u001b[0;32m   1547\u001b[0m     \u001b[39m# Child is launched. Close the parent's copy of those pipe\u001b[39;00m\n\u001b[0;32m   1548\u001b[0m     \u001b[39m# handles that only the child should have open.  You need\u001b[39;00m\n\u001b[1;32m   (...)\u001b[0m\n\u001b[0;32m   1551\u001b[0m     \u001b[39m# pipe will not close when the child process exits and the\u001b[39;00m\n\u001b[0;32m   1552\u001b[0m     \u001b[39m# ReadFile will hang.\u001b[39;00m\n\u001b[0;32m   1553\u001b[0m     \u001b[39mself\u001b[39m\u001b[39m.\u001b[39m_close_pipe_fds(p2cread, p2cwrite,\n\u001b[0;32m   1554\u001b[0m                          c2pread, c2pwrite,\n\u001b[0;32m   1555\u001b[0m                          errread, errwrite)\n",
      "\u001b[1;31mFileNotFoundError\u001b[0m: [WinError 2] El sistema no puede encontrar el archivo especificado"
     ]
    }
   ],
   "source": [
    "import subprocess\n",
    "from pathlib import Path\n",
    "VENV_NAME = '.venv'\n",
    "REQUIREMENTS = 'requirements.txt'\n",
    "process = subprocess.run(['which', 'python3'], capture_output=True, text=True)\n",
    "if process.returncode != 0:\n",
    "    raise OSError('Sorry python3 is not installed')\n",
    "python_process = process.stdout.strip()\n",
    "print(f'Python found in: {python_process}')\n",
    "process = subprocess.run('echo \"$SHELL\"', shell=True, capture_output=True, text=True)\n",
    "shell_bin = process.stdout.split('/')[-1]\n",
    "create_venv = subprocess.run([python_process, '-m', 'venv', VENV_NAME], check=True)\n",
    "if create_venv.returncode == 0:\n",
    "    print(f'Your venv {VENV_NAME} has been created')\n",
    "else:\n",
    "    print(f'Your venv {VENV_NAME} has not been created')\n",
    "pip_process = f'{VENV_NAME}/bin/pip3'\n",
    "if Path(REQUIREMENTS).exists():\n",
    "    print(f'Requirements file \"{REQUIREMENTS}\" found')\n",
    "    print('Installing requirements')\n",
    "    subprocess.run([pip_process, 'install', '-r', REQUIREMENTS])\n",
    "print('Process completed! Now activate your environment with \"source .venv/bin/activate\"')\n",
    "\n"
   ]
  },
  {
   "attachments": {},
   "cell_type": "markdown",
   "metadata": {},
   "source": [
    "## Administrar hilos en Python ##\n",
    "Enhebrar es una técnica de programación que permite que una aplicación ejecute varias operaciones en el mismo espacio de memoria asignado al proceso. Cada flujo de ejecución que se origina durante el procesamiento se denomina **subproceso** y puede realizar una o más tareas.\n",
    "Los subprocesos permiten que nuestras aplicaciones ejecuten varias operaciones al mismo tiempo en el mismo espacio de proceso. En Python, el  módulo _threadin_ hace posible la programación con hilos. Entre los posibles estados de un hilo, podemos destacar:\n",
    "* New , un subproceso que aún no se ha iniciado y no se han asignado recursos.\n",
    "* Runnable , el subproceso está esperando para ejecutarse.\n",
    "* Running , el hilo se está ejecutando.\n",
    "* Not-running , el subproceso se detuvo porque otro subproceso tuvo prioridad sobre él o porque el subproceso está esperando que se complete una operación de E/S de ejecución prolongada.\n",
    "* Finished, el hilo ha terminado su ejecución."
   ]
  },
  {
   "cell_type": "code",
   "execution_count": 2,
   "metadata": {},
   "outputs": [
    {
     "name": "stdout",
     "output_type": "stream",
     "text": [
      "Hello World: <Thread(Thread-5 (myTask), started 40184)>\n"
     ]
    }
   ],
   "source": [
    "import threading\n",
    "def myTask():\n",
    "    print(\"Hello World: {}\".format(threading.current_thread()))\n",
    "myFirstThread = threading.Thread(target=myTask)\n",
    "myFirstThread.start()"
   ]
  },
  {
   "attachments": {},
   "cell_type": "markdown",
   "metadata": {},
   "source": [
    "El constructor de la clase Thread aceptacinco argumentos como parámetros:\n",
    "\n",
    "* group: Un parámetro especial que está reservado para futuras extensiones\n",
    "* target: El objeto invocable que será invocado por el run()método\n",
    "* name: el nombre del hilo\n",
    "* args: una tupla de argumento para la invocación de destino\n",
    "* kwargs: un argumento de palabra clave del diccionario para invocar el constructor de la clase base"
   ]
  },
  {
   "cell_type": "code",
   "execution_count": 3,
   "metadata": {},
   "outputs": [],
   "source": [
    "import threading\n",
    "import logging\n",
    "import time\n",
    "logging.basicConfig(level=logging.DEBUG,format='[%(levelname)s] - %(threadName)-10s : %(message)s')\n",
    "def thread(name):\n",
    "    logging.debug('Starting Thread '+ name)\n",
    "    time.sleep(5)\n",
    "    print(\"%s: %s\" % (name, time.ctime(time.time())))\n",
    "    logging.debug('Stopping Thread '+ name)\n",
    "def check_state(thread):\n",
    "    if thread.is_alive():\n",
    "        print(f'Thread {thread.name} is alive.')\n",
    "    else:\n",
    "        print(f'Thread {thread.name} it not alive.')"
   ]
  },
  {
   "attachments": {},
   "cell_type": "markdown",
   "metadata": {},
   "source": [
    "vamos a crear nuestro hilo. En el siguiente ejemplo, estamos creando una clase llamada MyThreadque hereda de threading.Thread. El run()método contiene el código que se ejecuta dentro de cada uno de nuestros subprocesos, por lo que podemos usar el start()método para iniciar un nuevo subproceso."
   ]
  },
  {
   "cell_type": "code",
   "execution_count": 4,
   "metadata": {},
   "outputs": [
    {
     "name": "stdout",
     "output_type": "stream",
     "text": [
      "I am the 0 thread\n",
      "I am the 1 thread\n",
      "I am the 2 thread\n",
      "I am the 3 thread\n",
      "I am the 4 thread\n",
      "I am the 5 thread\n",
      "I am the 6 thread\n",
      "I am the 7 thread\n",
      "I am the 8 thread\n",
      "I am the 9 thread\n",
      "I am the 0 thread\n",
      "I am the 1 thread\n",
      "I am the 2 thread\n",
      "I am the 3 thread\n",
      "I am the 4 thread\n",
      "I am the 5 thread\n",
      "I am the 6 thread\n",
      "I am the 7 thread\n",
      "I am the 8 thread\n",
      "I am the 9 thread\n",
      "I am the 0 thread\n",
      "I am the 1 thread\n",
      "I am the 2 thread\n",
      "I am the 3 thread\n",
      "I am the 4 thread\n",
      "I am the 5 thread\n",
      "I am the 6 thread\n",
      "I am the 7 thread\n",
      "I am the 8 thread\n",
      "I am the 9 thread\n",
      "I am the 0 thread\n",
      "I am the 1 thread\n",
      "I am the 2 thread\n",
      "I am the 3 thread\n",
      "I am the 4 thread\n",
      "I am the 5 thread\n",
      "I am the 6 thread\n",
      "I am the 7 thread\n",
      "I am the 8 thread\n",
      "I am the 9 thread\n",
      "I am the 0 thread\n",
      "I am the 1 thread\n",
      "I am the 2 thread\n",
      "I am the 3 thread\n",
      "I am the 4 thread\n",
      "I am the 5 thread\n",
      "I am the 6 thread\n",
      "I am the 7 thread\n",
      "I am the 8 thread\n",
      "I am the 9 thread\n",
      "0.011499800020828843\n"
     ]
    }
   ],
   "source": [
    "import threading\n",
    "class MyThread(threading.Thread):\n",
    "    def __init__ (self, message):\n",
    "        threading.Thread.__init__(self)\n",
    "        self.message = message\n",
    "    def run(self):\n",
    "        print(self.message)\n",
    "def test():\n",
    "    for num in range(0, 10):\n",
    "        thread = MyThread(\"I am the \"+str(num)+\" thread\")\n",
    "        thread.name = num\n",
    "        thread.start()\n",
    "if __name__ == '__main__':\n",
    "    import timeit\n",
    "    print(timeit.timeit(\"test()\", setup=\"from __main__ import test\",number=5))"
   ]
  },
  {
   "cell_type": "code",
   "execution_count": 5,
   "metadata": {},
   "outputs": [
    {
     "name": "stdout",
     "output_type": "stream",
     "text": [
      "I am the 0 thread\n",
      "I am the 1 thread\n",
      "I am the 2 thread\n",
      "I am the 3 thread\n",
      "I am the 4 thread\n",
      "I am the 5 thread\n",
      "I am the 6 thread\n",
      "I am the 7 thread\n",
      "I am the 8 thread\n",
      "I am the 9 thread\n",
      "I am the 0 thread\n",
      "I am the 1 thread\n",
      "I am the 2 thread\n",
      "I am the 3 thread\n",
      "I am the 4 thread\n",
      "I am the 5 thread\n",
      "I am the 6 thread\n",
      "I am the 7 thread\n",
      "I am the 8 thread\n",
      "I am the 9 thread\n",
      "I am the 0 thread\n",
      "I am the 1 thread\n",
      "I am the 2 thread\n",
      "I am the 3 thread\n",
      "I am the 4 thread\n",
      "I am the 5 thread\n",
      "I am the 6 thread\n",
      "I am the 7 thread\n",
      "I am the 8 thread\n",
      "I am the 9 thread\n",
      "I am the 0 thread\n",
      "I am the 1 thread\n",
      "I am the 2 thread\n",
      "I am the 3 thread\n",
      "I am the 4 thread\n",
      "I am the 5 thread\n",
      "I am the 6 thread\n",
      "I am the 7 thread\n",
      "I am the 8 thread\n",
      "I am the 9 thread\n",
      "I am the 0 thread\n",
      "I am the 1 thread\n",
      "I am the 2 thread\n",
      "I am the 3 thread\n",
      "I am the 4 thread\n",
      "I am the 5 thread\n",
      "I am the 6 thread\n",
      "I am the 7 thread\n",
      "I am the 8 thread\n",
      "I am the 9 thread\n",
      "0.010205100057646632\n"
     ]
    }
   ],
   "source": [
    "import threading\n",
    "class thread_message(threading.Thread):\n",
    "    def __init__ (self, message):\n",
    "        threading.Thread.__init__(self)\n",
    "        self.message = message\n",
    "    def run(self):\n",
    "        print(self.message)\n",
    "threads = []\n",
    "def test():\n",
    "    for num in range(0, 10):\n",
    "        thread = thread_message(\"I am the \"+str(num)+\" thread\")\n",
    "        thread.start()\n",
    "        threads.append(thread)\n",
    "    # wait for all threads to complete by entering them\n",
    "    for thread in threads:\n",
    "        thread.join()\n",
    "if __name__ == '__main__':\n",
    "    import timeit\n",
    "    print(timeit.timeit(\"test()\", setup=\"from __main__ import test\",number=5))"
   ]
  },
  {
   "attachments": {},
   "cell_type": "markdown",
   "metadata": {},
   "source": [
    "El mainsubproceso en el código anterior no finaliza su ejecución antes que el proceso secundario, lo que podría provocar que algunas plataformas finalicen el proceso secundario antes de que finalice la ejecución. El joinmétodo puede tomar como parámetro un número de coma flotante que indica el número máximo de segundos de espera. Además, usamos el timeitmódulo para obtener los tiempos de ejecución del hilo. De esta manera, puede comparar el tiempo de ejecución entre ellos.\n",
    "\n",
    "Para ajustar el comportamiento de los programas que usan subprocesos, es mejor tener la capacidad de pasar valores a los subprocesos. Para eso están los argumentos argsy kwargsen el constructor. El código anterior usa estos argumentos para pasar una variable con el número del subproceso que se está ejecutando actualmente y un diccionario con tres valores que establecen cómo funciona el contador en todos los subprocesos."
   ]
  },
  {
   "attachments": {},
   "cell_type": "markdown",
   "metadata": {},
   "source": [
    "### Multiprocesamiento en Python ### \n",
    "En los sistemas operativos que implementan una llamada de sistema bifurcada, el multiprocesamiento, en lugar de los subprocesos, se puede crear fácilmente para manejar la concurrencia. Porque utiliza subprocesamiento en lugar desubprocesos, permite múltiples operaciones simultáneas parallevarse a cabo sin las limitaciones del Global Interpreter Lock ( GIL ) en los sistemas Unix y Windows.\n",
    "\n",
    "Trabajar con procesos es muy similar a trabajar con hilos. La diferencia es que necesita usar el multiprocessingmódulo en lugar del módulo de subprocesamiento. En este caso, se debe usar el Process()método, que funciona de manera similar a usar el Thread()método del módulo de subprocesos.\n",
    "\n",
    "En el siguiente ejemplo, estamos usando Process()el método para crear dos procesos y cada uno está asociado con un hilo. Puede encontrar el siguiente código en el multiprocessing_process.pyarchivo en la multiprocessingsubcarpeta:"
   ]
  },
  {
   "cell_type": "code",
   "execution_count": 6,
   "metadata": {},
   "outputs": [],
   "source": [
    "import multiprocessing\n",
    "import logging\n",
    "import time\n",
    "logging.basicConfig(level=logging.DEBUG,format='[%(levelname)s] - %(threadName)-10s : %(message)s')\n",
    "def thread(name):\n",
    "    logging.debug('Starting Process '+ name)\n",
    "    time.sleep(5)\n",
    "    print(\"%s: %s\" % (name, time.ctime(time.time())))\n",
    "    logging.debug('Stopping Process '+ name)\n",
    "def check_state(process):\n",
    "    if process.is_alive():\n",
    "        print(f'Process {process.name} is alive.')\n",
    "    else:\n",
    "        print(f'Process {process.name} is not alive.')"
   ]
  },
  {
   "attachments": {},
   "cell_type": "markdown",
   "metadata": {},
   "source": [
    "### Multihilo en Python ###\n",
    "Pitónproporciona una API que permite a los desarrolladores escribir aplicaciones con varios subprocesos. Para comenzar con subprocesos múltiples, vamos a crear un nuevo subproceso dentro de una clase de Python. Esta clase se extiende threading.Thready contiene el código para administrar un subproceso.\n",
    "\n",
    "Con multithreading, podríamos tener varios procesos generados a partir de un proceso principal y podríamos usar cada hilo para ejecutar diferentes tareas de forma independiente"
   ]
  },
  {
   "cell_type": "code",
   "execution_count": 7,
   "metadata": {},
   "outputs": [],
   "source": [
    "import threading\n",
    "class ThreadWorker(threading.Thread):\n",
    "    def __init__(self):\n",
    "        super(ThreadWorker, self).__init__()\n",
    "    def run(self):\n",
    "        for i in range(10):\n",
    "            print(i)\n",
    "import threading \n",
    "from ThreadWorker import ThreadWorker\n",
    "def main():\n",
    "    thread = ThreadWorker()\n",
    "    thread.start()\n",
    "if __name__ == \"__main__\":  \n",
    "    main()\n"
   ]
  },
  {
   "attachments": {},
   "cell_type": "markdown",
   "metadata": {},
   "source": [
    "## Concurrencia en Python con ThreadPoolExecutor ##\n",
    "Corrermúltiples subprocesos es como corrermúltiples procesos diferentes al mismo tiempo, pero con algunos beneficios añadidos, entre los que podemos destacar:\n",
    "\n",
    "Los subprocesos en ejecución de un proceso comparten el mismo espacio de datos que el subproceso principal y, por lo tanto, pueden acceder a la misma información o comunicarse entre sí más fácilmente que si estuvieran en procesos separados.\n",
    "Ejecutar un proceso de subprocesos múltiples generalmente requiere menos recursos de memoria que ejecutar el equivalente en procesos separados.\n",
    "Permite simplificar el diseño de aplicaciones que necesitan ejecutar varias operaciones al mismo tiempo."
   ]
  },
  {
   "cell_type": "code",
   "execution_count": 8,
   "metadata": {},
   "outputs": [
    {
     "name": "stdout",
     "output_type": "stream",
     "text": [
      "Starting ThreadPoolExecutor\n",
      "Processing 2\n",
      "Accessing thread : 24940\n",
      "Thread Executed <Thread(ThreadPoolExecutor-0_0, started 24940)>\n",
      "Processing 3\n",
      "Accessing thread : 24940\n",
      "Thread Executed <Thread(ThreadPoolExecutor-0_0, started 24940)>\n",
      "Processing 4\n",
      "Accessing thread : 24940\n",
      "Thread Executed <Thread(ThreadPoolExecutor-0_0, started 24940)>\n",
      "All tasks complete\n"
     ]
    }
   ],
   "source": [
    "from concurrent.futures import ThreadPoolExecutor\n",
    "import threading\n",
    "def task(n):\n",
    "    print(\"Processing {}\".format(n))\n",
    "    print(\"Accessing thread : {}\".format(threading.get_ident()))\n",
    "    print(\"Thread Executed {}\".format(threading.current_thread()))\n",
    "def main():\n",
    "    print(\"Starting ThreadPoolExecutor\")\n",
    "    executor = ThreadPoolExecutor(max_workers=3)\n",
    "    future = executor.submit(task, (2))\n",
    "    future = executor.submit(task, (3))\n",
    "    future = executor.submit(task, (4))\n",
    "    print(\"All tasks complete\")\n",
    "if __name__ == '__main__':\n",
    "    main()"
   ]
  },
  {
   "attachments": {},
   "cell_type": "markdown",
   "metadata": {},
   "source": [
    "En el código anterior, definimos nuestra función main donde se inicializa el objeto ejecutor como una instancia de la clase ThreadPoolExecutor, y un nuevo conjunto de subprocesos se ejecuta sobre este objeto. Entonces obtenemos el hilo que se ejecutó con el método threading.current_thread(). En el siguiente resultado del script anterior, podemos ver tres subprocesos diferentes que se han creado con estos identificadores."
   ]
  },
  {
   "cell_type": "code",
   "execution_count": 9,
   "metadata": {},
   "outputs": [
    {
     "name": "stdout",
     "output_type": "stream",
     "text": [
      "I am ThreadPoolExecutor-1_0 and my value is 248\n",
      "I am ThreadPoolExecutor-1_0 and my value is 494\n",
      "I am ThreadPoolExecutor-1_0 and my value is 266\n",
      "I am ThreadPoolExecutor-1_0 and my value is 150\n",
      "I am ThreadPoolExecutor-1_0 and my value is 787\n",
      "Thread ThreadPoolExecutor-1_0 returned 150\n",
      "Thread ThreadPoolExecutor-1_0 returned 248\n",
      "Thread ThreadPoolExecutor-1_0 returned 494\n",
      "Thread ThreadPoolExecutor-1_0 returned 266\n",
      "Thread ThreadPoolExecutor-1_0 returned 787\n"
     ]
    }
   ],
   "source": [
    "from concurrent.futures import ThreadPoolExecutor, as_completed\n",
    "from random import randint\n",
    "import threading\n",
    "def execute(name):\n",
    "    value = randint(0, 1000)\n",
    "    thread_name = threading.current_thread().name\n",
    "    print(f'I am {thread_name} and my value is {value}')\n",
    "    return (thread_name, value)\n",
    "with ThreadPoolExecutor(max_workers=5) as executor:\n",
    "    futures = [executor.submit(execute,f'T{name}') for name in range(5)]\n",
    "    for future in as_completed(futures):\n",
    "        name, value = future.result()\n",
    "        print(f'Thread {name} returned {value}')"
   ]
  },
  {
   "cell_type": "code",
   "execution_count": 10,
   "metadata": {},
   "outputs": [],
   "source": [
    "from concurrent.futures import ProcessPoolExecutor\n",
    "import os\n",
    "def task():\n",
    "    print(\"Executing our Task on Process {}\".format(os.getpid()))\n",
    "def main():\n",
    "    executor = ProcessPoolExecutor(max_workers=3)\n",
    "    task1 = executor.submit(task)\n",
    "    task2 = executor.submit(task)\n",
    "if __name__ == '__main__':\n",
    "    main()"
   ]
  },
  {
   "cell_type": "code",
   "execution_count": 11,
   "metadata": {},
   "outputs": [
    {
     "ename": "ModuleNotFoundError",
     "evalue": "No module named 'requests'",
     "output_type": "error",
     "traceback": [
      "\u001b[1;31m---------------------------------------------------------------------------\u001b[0m",
      "\u001b[1;31mModuleNotFoundError\u001b[0m                       Traceback (most recent call last)",
      "Cell \u001b[1;32mIn[11], line 1\u001b[0m\n\u001b[1;32m----> 1\u001b[0m \u001b[39mimport\u001b[39;00m \u001b[39mrequests\u001b[39;00m\n\u001b[0;32m      2\u001b[0m \u001b[39mfrom\u001b[39;00m \u001b[39mconcurrent\u001b[39;00m\u001b[39m.\u001b[39;00m\u001b[39mfutures\u001b[39;00m \u001b[39mimport\u001b[39;00m ThreadPoolExecutor, as_completed\n\u001b[0;32m      3\u001b[0m \u001b[39mfrom\u001b[39;00m \u001b[39mtime\u001b[39;00m \u001b[39mimport\u001b[39;00m time\n",
      "\u001b[1;31mModuleNotFoundError\u001b[0m: No module named 'requests'"
     ]
    }
   ],
   "source": [
    "import requests\n",
    "from concurrent.futures import ThreadPoolExecutor, as_completed\n",
    "from time import time\n",
    "url_list = [\"http://www.python.org\", \"http://www.google.com\",\"http://www.packtpub.com\", \"http://www.goooooooogle.com\"]\n",
    "def request_url(url):\n",
    "    html = requests.get(url, stream=True)\n",
    "    return url + \"-->\" + str(html.status_code)\n",
    "process_list = []\n",
    "with ThreadPoolExecutor(max_workers=10) as executor:\n",
    "    for url in url_list:\n",
    "        process_list.append(executor.submit(request_url, url))\n",
    "for task in as_completed(process_list):\n",
    "    print(task.result())"
   ]
  }
 ],
 "metadata": {
  "kernelspec": {
   "display_name": "Python 3",
   "language": "python",
   "name": "python3"
  },
  "language_info": {
   "codemirror_mode": {
    "name": "ipython",
    "version": 3
   },
   "file_extension": ".py",
   "mimetype": "text/x-python",
   "name": "python",
   "nbconvert_exporter": "python",
   "pygments_lexer": "ipython3",
   "version": "3.11.4"
  },
  "orig_nbformat": 4
 },
 "nbformat": 4,
 "nbformat_minor": 2
}
